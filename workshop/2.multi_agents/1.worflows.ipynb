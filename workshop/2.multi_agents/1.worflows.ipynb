{
 "cells": [
  {
   "cell_type": "code",
   "execution_count": null,
   "id": "b9ad1221",
   "metadata": {},
   "outputs": [],
   "source": [
    "from strands import Agent"
   ]
  },
  {
   "cell_type": "code",
   "execution_count": null,
   "id": "1aa377e0",
   "metadata": {},
   "outputs": [],
   "source": [
    "from strands_tools import retrieve\n",
    "from dotenv import load_dotenv\n",
    "import os\n",
    "\n",
    "load_dotenv()\n",
    "\n",
    "def kb_node(query):\n",
    "    # Researcher Agent with web capabilities\n",
    "    print (f\"\"\"RETRIEVE FROM KB:  {os.environ.get(\"KNOWLEDGE_BASE_ID\")}\"\"\")\n",
    "    kb_agent = Agent(\n",
    "        system_prompt=(\n",
    "            \"You are a Researcher Agent that gathers information from the knowldge base. \"\n",
    "            \"1. Search knowledge base for the relevant information\"\n",
    "        ),\n",
    "        callback_handler=None,\n",
    "        tools=[retrieve]\n",
    "    )\n",
    "\n",
    "    return str(kb_agent(query))"
   ]
  },
  {
   "cell_type": "code",
   "execution_count": null,
   "id": "c796ad1b",
   "metadata": {},
   "outputs": [],
   "source": [
    "from strands.tools import tool\n",
    "from langchain_community.tools.tavily_search import TavilySearchResults\n",
    "\n",
    "@tool\n",
    "def search_web(query: str) -> str:\n",
    "    search_tool = TavilySearchResults(max_results=2)\n",
    "    web_results = search_tool.invoke(query)\n",
    "    return web_results\n",
    "    \n",
    "def web_search(query):\n",
    "    # Researcher Agent with web capabilities\n",
    "    print (\"WEB SEARCH\")\n",
    "    web_agent = Agent(\n",
    "        system_prompt=(\n",
    "            \"You are a Researcher Agent that gathers information from the web. \"\n",
    "            \"1. Search the web for the relevant information\"\n",
    "        ),\n",
    "        callback_handler=None,\n",
    "        tools=[search_web]\n",
    "    )\n",
    "    return str(web_agent(query))"
   ]
  },
  {
   "cell_type": "code",
   "execution_count": null,
   "id": "06c3a649",
   "metadata": {},
   "outputs": [],
   "source": [
    "def blogger_node(context):\n",
    "    # Blogger Agent with web capabilities\n",
    "    print (\"BLOGGING\")\n",
    "\n",
    "    blogger_agent = Agent(\n",
    "        system_prompt=(\n",
    "            \"You are an Blogger Agent that writes a short summary \"\n",
    "            \"1. Summarize the information in 100 words \"\n",
    "        ),\n",
    "        callback_handler=None,\n",
    "    )\n",
    "    return str(blogger_agent(context))\n"
   ]
  },
  {
   "cell_type": "code",
   "execution_count": null,
   "id": "ab9fff4f",
   "metadata": {},
   "outputs": [],
   "source": [
    "def run_workflow(user_input):\n",
    "    context = kb_node(user_input)\n",
    "\n",
    "    print(context)\n",
    "\n",
    "    #if the context has apologize then call web search\n",
    "    if \"apologize\" in context:\n",
    "        context = web_search(user_input)\n",
    "\n",
    "    final_response = blogger_node(context)\n",
    "\n",
    "    return final_response"
   ]
  },
  {
   "cell_type": "code",
   "execution_count": null,
   "id": "2abf04e2",
   "metadata": {},
   "outputs": [],
   "source": [
    "response = run_workflow(\"Who is usain bolt\")"
   ]
  },
  {
   "cell_type": "code",
   "execution_count": null,
   "id": "4faefbf2",
   "metadata": {},
   "outputs": [],
   "source": [
    "response"
   ]
  }
 ],
 "metadata": {
  "kernelspec": {
   "display_name": "Python 3",
   "language": "python",
   "name": "python3"
  },
  "language_info": {
   "codemirror_mode": {
    "name": "ipython",
    "version": 3
   },
   "file_extension": ".py",
   "mimetype": "text/x-python",
   "name": "python",
   "nbconvert_exporter": "python",
   "pygments_lexer": "ipython3",
   "version": "3.12.5"
  }
 },
 "nbformat": 4,
 "nbformat_minor": 5
}
