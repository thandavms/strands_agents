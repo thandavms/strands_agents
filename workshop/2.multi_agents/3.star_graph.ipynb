{
 "cells": [
  {
   "cell_type": "code",
   "execution_count": null,
   "id": "5e1df12c",
   "metadata": {},
   "outputs": [],
   "source": [
    "from strands import Agent\n",
    "from strands.tools import tool"
   ]
  },
  {
   "cell_type": "code",
   "execution_count": null,
   "id": "2299a021",
   "metadata": {},
   "outputs": [],
   "source": [
    "@tool\n",
    "def market_research(query: str) -> str:\n",
    "    \"\"\"Analyze market trends and consumer behavior.\"\"\"\n",
    "    print(\"🔍 Market Research Specialist analyzing...\")\n",
    "    market_agent = Agent(\n",
    "        system_prompt=\"You are a market research specialist who analyzes consumer trends, market segments, and purchasing behaviors. Provide detailed insights on market conditions, consumer preferences, and emerging trends.\",\n",
    "        callback_handler=None\n",
    "    )\n",
    "    return str(market_agent(query))"
   ]
  },
  {
   "cell_type": "code",
   "execution_count": null,
   "id": "0a36bdbc",
   "metadata": {},
   "outputs": [],
   "source": [
    "@tool\n",
    "def financial_analysis(query: str) -> str:\n",
    "    \"\"\"Analyze financial aspects and economic implications.\"\"\"\n",
    "    print(\"💹 Financial Analyst processing...\")\n",
    "    financial_agent = Agent(\n",
    "        system_prompt=\"You are a financial analyst who specializes in economic forecasting, cost-benefit analysis, and financial modeling. Provide insights on financial viability, economic impacts, and budgetary considerations.\",\n",
    "        callback_handler=None\n",
    "    )\n",
    "    return str(financial_agent(query))"
   ]
  },
  {
   "cell_type": "code",
   "execution_count": null,
   "id": "845b7158",
   "metadata": {},
   "outputs": [],
   "source": [
    "@tool\n",
    "def economic_department(query: str) -> str:\n",
    "    \"\"\"Coordinate economic analysis across market and financial domains.\"\"\"\n",
    "    print(\"📈 Economic Department coordinating analysis...\")\n",
    "    econ_manager = Agent(\n",
    "        system_prompt=\"\"\"You are an economic department manager who coordinates specialized economic analyses.\n",
    "        For market-related questions, use the market_research tool.\n",
    "        For financial questions, use the financial_analysis tool.\n",
    "        Synthesize the results into a cohesive economic perspective.\n",
    "\n",
    "        Important: Make sure to use both tools for comprehensive analysis unless the query is clearly focused on just one area.\n",
    "        \"\"\",\n",
    "        tools=[market_research, financial_analysis],\n",
    "        callback_handler=None\n",
    "    )\n",
    "    return str(econ_manager(query))"
   ]
  },
  {
   "cell_type": "code",
   "execution_count": null,
   "id": "819cf8ce",
   "metadata": {},
   "outputs": [],
   "source": [
    "from strands import Agent\n",
    "\n",
    "from strands_tools import agent_graph\n",
    "agent = Agent(tools=[agent_graph])"
   ]
  },
  {
   "cell_type": "code",
   "execution_count": null,
   "id": "a4da187c",
   "metadata": {},
   "outputs": [
    {
     "name": "stdout",
     "output_type": "stream",
     "text": [
      " document iteration efficiency\n",
      "- **Decision metrics\n",
      "\n",
      "## Integration with Organizational Factors Velocity**: Time from problem identification to resolution when multiple stakeholders are involved\n",
      "\n",
      "## 4.\n",
      "\n",
      "### Contextual Variables to Consider Normalizing Across Job Functions\n",
      "\n",
      "- **Role-Base\n",
      "1. **Role Complexityd Benchmarking**: Develop function-specific baseline productivity metrics\n",
      "- **Relative Performance Indices**: Measure individual performance against function Dimension:**\n",
      "   - Assess how-specific norms\n",
      "- **Value-Added Analysis**: Focus on incremental contribution regardless of role\n",
      "- ** job complexity influences optimal measurement approachesWeighted Productivity Scoring**: Apply job-appropriate weights to different productivity dimensions\n",
      "- **Competency Matrices**:\n",
      "   - Create complexity-adjusted bench Map productivity against role-specific competencymarks for each segment\n",
      "\n",
      "2. **Technology expectations\n",
      "\n",
      "## 5. Incorporating Infrastructure Factors:**\n",
      "   - Sustainability Factors\n",
      "\n",
      "- **Burnout Risk Indicators**: Track work Evaluate how tool access impacts segment pattern volatility, after-hours work frequency\n",
      "- **Recovery Metrics**: productivity patterns\n",
      "   - Identify technology Measure cognitive recovery between work sessions"
     ]
    }
   ],
   "source": [
    "result = agent.tool.agent_graph(\n",
    "    action=\"create\",\n",
    "    graph_id=\"research_team\",\n",
    "    topology={\n",
    "        \"type\": \"star\",\n",
    "        \"nodes\": [\n",
    "            {\n",
    "                \"id\": \"economic_department\",\n",
    "                \"role\": \"team_lead\",\n",
    "                \"system_prompt\": \"You are a research team leader coordinating specialists.\"\n",
    "            },\n",
    "            {\n",
    "                \"id\": \"market_research\",\n",
    "                \"role\": \"expert\",\n",
    "                \"system_prompt\": \"You are a data analyst specializing in statistical analysis.\"\n",
    "            },\n",
    "            {\n",
    "                \"id\": \"financial_analysis\",\n",
    "                \"role\": \"expert\",\n",
    "                \"system_prompt\": \"You are a domain expert with deep subject knowledge.\"\n",
    "            }\n",
    "        ],\n",
    "        \"edges\": [\n",
    "            {\"from\": \"economic_department\", \"to\": \"market_research\"},\n",
    "            {\"from\": \"economic_department\", \"to\": \"financial_analysis\"},\n",
    "            {\"from\": \"market_research\", \"to\": \"economic_department\"},\n",
    "            {\"from\": \"financial_analysis\", \"to\": \"economic_department\"}\n",
    "        ]\n",
    "    }\n",
    ")"
   ]
  },
  {
   "cell_type": "code",
   "execution_count": null,
   "id": "26c75f5d",
   "metadata": {},
   "outputs": [],
   "source": [
    "result"
   ]
  },
  {
   "cell_type": "code",
   "execution_count": null,
   "id": "4155212f",
   "metadata": {},
   "outputs": [],
   "source": [
    "agent.tool.agent_graph(\n",
    "    action=\"message\",\n",
    "    graph_id=\"research_team\",\n",
    "    message={\n",
    "        \"target\": \"economic_department\",\n",
    "        \"content\": \"Analyze the impact of remote work on productivity.\"\n",
    "    }\n",
    ")"
   ]
  }
 ],
 "metadata": {
  "kernelspec": {
   "display_name": "Python 3",
   "language": "python",
   "name": "python3"
  },
  "language_info": {
   "codemirror_mode": {
    "name": "ipython",
    "version": 3
   },
   "file_extension": ".py",
   "mimetype": "text/x-python",
   "name": "python",
   "nbconvert_exporter": "python",
   "pygments_lexer": "ipython3",
   "version": "3.12.5"
  }
 },
 "nbformat": 4,
 "nbformat_minor": 5
}
