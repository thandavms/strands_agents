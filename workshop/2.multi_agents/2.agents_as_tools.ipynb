{
 "cells": [
  {
   "cell_type": "code",
   "execution_count": null,
   "id": "ff8371ba",
   "metadata": {},
   "outputs": [],
   "source": [
    "from strands import Agent\n",
    "from strands.tools import tool\n",
    "from strands_tools import retrieve\n",
    "from dotenv import load_dotenv\n",
    "import os"
   ]
  },
  {
   "cell_type": "code",
   "execution_count": null,
   "id": "ace8ef29",
   "metadata": {},
   "outputs": [],
   "source": [
    "@tool \n",
    "def kb_tool(query):\n",
    "    # Researcher Agent with web capabilities\n",
    "    load_dotenv()\n",
    "    print (f\"\"\"RETRIEVE FROM KB:  {os.environ.get(\"KNOWLEDGE_BASE_ID\")}\"\"\")\n",
    "    kb_agent = Agent(\n",
    "        system_prompt=(\n",
    "            \"You are a Researcher Agent that gathers information from the knowldge base. \"\n",
    "            \"1. Search knowledge base for the relevant information\"\n",
    "        ),\n",
    "        callback_handler=None,\n",
    "        tools=[retrieve]\n",
    "    )\n",
    "\n",
    "    return str(kb_agent(query))"
   ]
  },
  {
   "cell_type": "code",
   "execution_count": null,
   "id": "b3a43d2a",
   "metadata": {},
   "outputs": [],
   "source": [
    "@tool\n",
    "def blog_tool(context):\n",
    "    # Blogger Agent with web capabilities\n",
    "    print (\"BLOGGING\")\n",
    "\n",
    "    blogger_agent = Agent(\n",
    "        system_prompt=(\n",
    "            \"You are an Blogger Agent that writes a short summary \"\n",
    "            \"1. Summarize the information in 100 words \"\n",
    "        ),\n",
    "        callback_handler=None,\n",
    "    )\n",
    "    return str(blogger_agent(context))"
   ]
  },
  {
   "cell_type": "code",
   "execution_count": null,
   "id": "7d4f59cd",
   "metadata": {},
   "outputs": [],
   "source": [
    "# Define orchestrator system prompt with clear tool selection guidance\n",
    "MAIN_SYSTEM_PROMPT = \"\"\"\n",
    "You are an expert AI Agent that deciphers the question in its entirety, identifies the sequence of actions required to answer user query:\n",
    "\n",
    "1. ALWAYS follow this decision process:\n",
    "   - For any knowledge-based task (blogs, explanations, summaries about specific topics), FIRST use kb_tool to gather information\n",
    "   - Only AFTER gathering information, proceed to use specialized tools like blog_tool\n",
    "   - For simple questions not requiring specialized knowledge → Answer directly\n",
    "\n",
    "2. Tool selection guidelines:\n",
    "   - kb_tool: MUST be used FIRST for any topic requiring specialized knowledge (like agentic AI memory)\n",
    "   - blog_tool: Use ONLY AFTER gathering information with kb_tool when blog writing is requested\n",
    "   \n",
    "3. NEVER skip the knowledge gathering step for specialized topics.\n",
    "\n",
    "4. For multi-step tasks, explicitly reason through which tools to use in which order.\n",
    "\n",
    "Always select the most appropriate tool sequence based on the user's query.\n",
    "\"\"\"\n",
    "\n",
    "# Strands Agents SDK allows easy integration of agent tools\n",
    "orchestrator = Agent(\n",
    "    system_prompt=MAIN_SYSTEM_PROMPT,\n",
    "    callback_handler=None,\n",
    "    tools=[kb_tool, blog_tool]\n",
    ")"
   ]
  },
  {
   "cell_type": "code",
   "execution_count": null,
   "id": "19c41d54",
   "metadata": {},
   "outputs": [],
   "source": [
    "orchestrator(\"write a blog about agentic ai memory\")"
   ]
  }
 ],
 "metadata": {
  "kernelspec": {
   "display_name": "Python 3",
   "language": "python",
   "name": "python3"
  },
  "language_info": {
   "codemirror_mode": {
    "name": "ipython",
    "version": 3
   },
   "file_extension": ".py",
   "mimetype": "text/x-python",
   "name": "python",
   "nbconvert_exporter": "python",
   "pygments_lexer": "ipython3",
   "version": "3.12.5"
  }
 },
 "nbformat": 4,
 "nbformat_minor": 5
}
