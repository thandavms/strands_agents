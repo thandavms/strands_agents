{
 "cells": [
  {
   "cell_type": "markdown",
   "metadata": {},
   "source": [
    "# Cross-Session Memory for Strands Agents\n",
    "\n",
    "This notebook demonstrates how to implement cross-session memory for Strands Agents. We'll simulate multiple sessions and show how an agent can recall information from previous interactions."
   ]
  },
  {
   "cell_type": "markdown",
   "metadata": {},
   "source": [
    "## 1. Setup Memory Manager"
   ]
  },
  {
   "cell_type": "code",
   "execution_count": null,
   "metadata": {},
   "outputs": [],
   "source": [
    "import json\n",
    "import os\n",
    "from typing import Dict, List, Any, Optional\n",
    "from datetime import datetime\n",
    "from strands.agent.conversation_manager import ConversationManager\n",
    "from strands.types.content import Message, Messages\n",
    "\n",
    "class CrossSessionMemoryManager(ConversationManager):\n",
    "    \"\"\"A conversation manager that maintains memory across sessions.\"\"\"\n",
    "    \n",
    "    def __init__(self, memory_id: str, storage_dir: str = \"memory_storage\", max_sessions: int = 10):\n",
    "        \"\"\"\n",
    "        Initialize the cross-session memory manager.\n",
    "        \n",
    "        Args:\n",
    "            memory_id: Unique identifier for this memory instance\n",
    "            storage_dir: Directory where memory files will be stored\n",
    "            max_sessions: Maximum number of session histories to retain\n",
    "        \"\"\"\n",
    "\n",
    "        super().__init__()\n",
    "        self.memory_id = memory_id\n",
    "        self.storage_dir = storage_dir\n",
    "        self.max_sessions = max_sessions\n",
    "        self.memory_file = os.path.join(storage_dir, f\"{memory_id}.json\")\n",
    "        \n",
    "        # Current session state\n",
    "        self.session_id = datetime.now().strftime(\"%Y%m%d_%H%M%S\")\n",
    "        self._messages = []\n",
    "        \n",
    "        # All sessions memory\n",
    "        self.sessions = {}\n",
    "        self.summaries = {}\n",
    "        \n",
    "        # Ensure storage directory exists\n",
    "        os.makedirs(storage_dir, exist_ok=True)\n",
    "        \n",
    "        # Load existing memory if available\n",
    "        self._load_memory()\n",
    "    \n",
    "    def _load_memory(self):\n",
    "        \"\"\"Load memory from storage file if it exists.\"\"\"\n",
    "        if os.path.exists(self.memory_file):\n",
    "            try:\n",
    "                with open(self.memory_file, 'r') as f:\n",
    "                    memory_data = json.load(f)\n",
    "                    self.sessions = memory_data.get('sessions', {})\n",
    "                    self.summaries = memory_data.get('summaries', {})\n",
    "                    print(f\"Loaded memory with {len(self.sessions)} previous sessions\")\n",
    "            except Exception as e:\n",
    "                print(f\"Error loading memory from {self.memory_file}: {e}\")\n",
    "                self.sessions = {}\n",
    "                self.summaries = {}\n",
    "    \n",
    "    def _save_memory(self):\n",
    "        \"\"\"Save memory to storage file.\"\"\"\n",
    "        try:\n",
    "            # Update session history\n",
    "            self.sessions[self.session_id] = self._messages\n",
    "            \n",
    "            # Keep only the most recent sessions\n",
    "            if len(self.sessions) > self.max_sessions:\n",
    "                # Sort sessions by date (assuming ID format includes sortable date)\n",
    "                sorted_sessions = sorted(self.sessions.keys())\n",
    "                # Remove oldest sessions\n",
    "                for old_session in sorted_sessions[:-self.max_sessions]:\n",
    "                    del self.sessions[old_session]\n",
    "            \n",
    "            # Save to file\n",
    "            memory_data = {\n",
    "                'sessions': self.sessions,\n",
    "                'summaries': self.summaries\n",
    "            }\n",
    "            with open(self.memory_file, 'w') as f:\n",
    "                json.dump(memory_data, f, indent=2)\n",
    "        except Exception as e:\n",
    "            print(f\"Error saving memory to {self.memory_file}: {e}\")\n",
    "    \n",
    "    def add_message(self, message: Message) -> None:\n",
    "        \"\"\"Add a message to the current session and save to memory.\"\"\"\n",
    "        self._messages.append(message)\n",
    "        self._save_memory()\n",
    "    \n",
    "    def get_messages(self) -> List[Message]:\n",
    "        \"\"\"Get messages for the current session.\"\"\"\n",
    "        return self._messages\n",
    "    \n",
    "    def add_session_summary(self, summary: str) -> None:\n",
    "        \"\"\"Add a summary for the current session.\"\"\"\n",
    "        self.summaries[self.session_id] = summary\n",
    "        self._save_memory()\n",
    "    \n",
    "    def get_session_history(self, include_summaries: bool = True) -> str:\n",
    "        \"\"\"Get formatted history of past sessions.\"\"\"\n",
    "        if not self.sessions:\n",
    "            return \"No previous sessions found.\"\n",
    "        \n",
    "        history = []\n",
    "        for session_id in sorted(self.sessions.keys()):\n",
    "            if session_id == self.session_id:  # Skip current session\n",
    "                continue\n",
    "                \n",
    "            # Format date from session ID\n",
    "            try:\n",
    "                date_part = session_id.split('_')[0]\n",
    "                formatted_date = f\"{date_part[:4]}-{date_part[4:6]}-{date_part[6:]}\"\n",
    "            except:\n",
    "                formatted_date = session_id\n",
    "            \n",
    "            history.append(f\"Session from {formatted_date}:\")\n",
    "            \n",
    "            # Add summary if available\n",
    "            if include_summaries and session_id in self.summaries:\n",
    "                history.append(f\"Summary: {self.summaries[session_id]}\\n\")\n",
    "            \n",
    "            # Add conversation snippets - just first and last exchanges\n",
    "            session_messages = self.sessions[session_id]\n",
    "            if session_messages:\n",
    "                # First exchange\n",
    "                for idx, msg in enumerate(session_messages[:2]):\n",
    "                    role = \"User\" if msg[\"role\"] == \"user\" else \"Assistant\"\n",
    "                    content = msg[\"content\"]\n",
    "                    # Truncate long messages\n",
    "                    if len(content) > 100:\n",
    "                        content = content[:97] + \"...\"\n",
    "                    history.append(f\"{role}: {content}\")\n",
    "                \n",
    "                if len(session_messages) > 3:\n",
    "                    history.append(\"...\")\n",
    "                \n",
    "                # Last exchange (if different from first)\n",
    "                if len(session_messages) > 2:\n",
    "                    for msg in session_messages[-2:]:\n",
    "                        role = \"User\" if msg[\"role\"] == \"user\" else \"Assistant\"\n",
    "                        content = msg[\"content\"]\n",
    "                        # Truncate long messages\n",
    "                        if len(content) > 100:\n",
    "                            content = content[:97] + \"...\"\n",
    "                        history.append(f\"{role}: {content}\")\n",
    "            \n",
    "            history.append(\"\")\n",
    "        \n",
    "        return \"\\n\".join(history)\n",
    "    \n",
    "    def start_new_session(self) -> None:\n",
    "        \"\"\"Start a new session while preserving memory.\"\"\"\n",
    "        # Save current session\n",
    "        self._save_memory()\n",
    "        \n",
    "        # Create new session\n",
    "        self.session_id = datetime.now().strftime(\"%Y%m%d_%H%M%S\")\n",
    "        self._messages = []\n",
    "        print(f\"Started new session with ID: {self.session_id}\")\n",
    "    \n",
    "    def clear(self) -> None:\n",
    "        \"\"\"Clear all memory.\"\"\"\n",
    "        self._messages = []\n",
    "        self.sessions = {}\n",
    "        self.summaries = {}\n",
    "        \n",
    "        if os.path.exists(self.memory_file):\n",
    "            os.remove(self.memory_file)\n",
    "            print(f\"Cleared all memory and removed {self.memory_file}\")"
   ]
  },
  {
   "cell_type": "markdown",
   "metadata": {},
   "source": [
    "## 2. Set Up Agent with Memory"
   ]
  },
  {
   "cell_type": "code",
   "execution_count": 12,
   "metadata": {},
   "outputs": [
    {
     "ename": "TypeError",
     "evalue": "Can't instantiate abstract class CrossSessionMemoryManager without an implementation for abstract methods 'apply_management', 'reduce_context'",
     "output_type": "error",
     "traceback": [
      "\u001b[0;31m---------------------------------------------------------------------------\u001b[0m",
      "\u001b[0;31mTypeError\u001b[0m                                 Traceback (most recent call last)",
      "Cell \u001b[0;32mIn[12], line 7\u001b[0m\n\u001b[1;32m      4\u001b[0m \u001b[38;5;28;01mfrom\u001b[39;00m\u001b[38;5;250m \u001b[39m\u001b[38;5;21;01mstrands\u001b[39;00m\u001b[38;5;21;01m.\u001b[39;00m\u001b[38;5;21;01mtools\u001b[39;00m\u001b[38;5;250m \u001b[39m\u001b[38;5;28;01mimport\u001b[39;00m tool\n\u001b[1;32m      6\u001b[0m \u001b[38;5;66;03m# Initialize memory manager\u001b[39;00m\n\u001b[0;32m----> 7\u001b[0m memory_manager \u001b[38;5;241m=\u001b[39m \u001b[43mCrossSessionMemoryManager\u001b[49m\u001b[43m(\u001b[49m\u001b[43mmemory_id\u001b[49m\u001b[38;5;241;43m=\u001b[39;49m\u001b[38;5;124;43m\"\u001b[39;49m\u001b[38;5;124;43muser_assistant_memory\u001b[39;49m\u001b[38;5;124;43m\"\u001b[39;49m\u001b[43m)\u001b[49m\n\u001b[1;32m      9\u001b[0m \u001b[38;5;66;03m# Add a tool to access previous session history\u001b[39;00m\n\u001b[1;32m     10\u001b[0m \u001b[38;5;129m@tool\u001b[39m\n\u001b[1;32m     11\u001b[0m \u001b[38;5;28;01mdef\u001b[39;00m\u001b[38;5;250m \u001b[39m\u001b[38;5;21mrecall_previous_sessions\u001b[39m() \u001b[38;5;241m-\u001b[39m\u001b[38;5;241m>\u001b[39m \u001b[38;5;28mstr\u001b[39m:\n",
      "\u001b[0;31mTypeError\u001b[0m: Can't instantiate abstract class CrossSessionMemoryManager without an implementation for abstract methods 'apply_management', 'reduce_context'"
     ]
    }
   ],
   "source": [
    "from strands import Agent\n",
    "from strands.models import BedrockModel\n",
    "from strands_tools import calculator, current_time\n",
    "from strands.tools import tool\n",
    "\n",
    "# Initialize memory manager\n",
    "memory_manager = CrossSessionMemoryManager(memory_id=\"user_assistant_memory\")\n",
    "\n",
    "# Add a tool to access previous session history\n",
    "@tool\n",
    "def recall_previous_sessions() -> str:\n",
    "    \"\"\"Recall information from previous sessions with the user.\"\"\"\n",
    "    return memory_manager.get_session_history()\n",
    "\n",
    "# Set up model\n",
    "bedrock_model = BedrockModel(model_id=\"us.amazon.nova-pro-v1:0\")\n",
    "\n",
    "# System prompt that emphasizes memory usage\n",
    "system_prompt = \"\"\"\n",
    "You are a helpful AI assistant with memory of past interactions with the user.\n",
    "When appropriate, refer to information you've learned about the user in previous sessions.\n",
    "If you don't have relevant memories or they seem outdated, you can ask for clarification.\n",
    "You can use the recall_previous_sessions tool to access memories from past conversations.\n",
    "\"\"\"\n",
    "\n",
    "# Create agent with memory\n",
    "memory_agent = Agent(\n",
    "    model=bedrock_model,\n",
    "    tools=[calculator, current_time, recall_previous_sessions],\n",
    "    system_prompt=system_prompt,\n",
    "    conversation_manager=memory_manager\n",
    ")"
   ]
  },
  {
   "cell_type": "markdown",
   "metadata": {},
   "source": [
    "## 3. Session 1: Initial Interaction"
   ]
  },
  {
   "cell_type": "code",
   "execution_count": null,
   "metadata": {},
   "outputs": [],
   "source": [
    "# First interaction to establish some personal context\n",
    "response = memory_agent(\"Hello! My name is Alex and I'm a software developer working primarily with Python and JavaScript.\")\n",
    "print(f\"Agent: {response.message}\")"
   ]
  },
  {
   "cell_type": "code",
   "execution_count": null,
   "metadata": {},
   "outputs": [],
   "source": [
    "# Follow-up to add more personal context\n",
    "response = memory_agent(\"I'm currently working on a machine learning project for image classification. I've been struggling with dataset preparation.\")\n",
    "print(f\"Agent: {response.message}\")"
   ]
  },
  {
   "cell_type": "code",
   "execution_count": null,
   "metadata": {},
   "outputs": [],
   "source": [
    "# Add a session summary\n",
    "memory_manager.add_session_summary(\"Initial introduction. User is Alex, a software developer working with Python and JavaScript. Currently working on an image classification ML project with dataset preparation challenges.\")"
   ]
  },
  {
   "cell_type": "markdown",
   "metadata": {},
   "source": [
    "## 4. Simulate Session 2: Next Day"
   ]
  },
  {
   "cell_type": "code",
   "execution_count": null,
   "metadata": {},
   "outputs": [],
   "source": [
    "# Start a new session to simulate a different conversation time\n",
    "memory_manager.start_new_session()"
   ]
  },
  {
   "cell_type": "code",
   "execution_count": null,
   "metadata": {},
   "outputs": [],
   "source": [
    "# Ask a follow-up question that references previous context\n",
    "response = memory_agent(\"I've made progress on my project. The dataset is now properly labeled, but I'm having issues with model performance.\")\n",
    "print(f\"Agent: {response.message}\")"
   ]
  },
  {
   "cell_type": "code",
   "execution_count": null,
   "metadata": {},
   "outputs": [],
   "source": [
    "# Add new information\n",
    "response = memory_agent(\"I'm thinking of switching from a CNN to a vision transformer architecture. What do you think?\")\n",
    "print(f\"Agent: {response.message}\")"
   ]
  },
  {
   "cell_type": "code",
   "execution_count": null,
   "metadata": {},
   "outputs": [],
   "source": [
    "# Add a session summary\n",
    "memory_manager.add_session_summary(\"Follow-up on ML project. User has fixed dataset labeling issues but is having model performance problems. Considering switching from CNN to vision transformer.\")"
   ]
  },
  {
   "cell_type": "markdown",
   "metadata": {},
   "source": [
    "## 5. Simulate Session 3: A Week Later"
   ]
  },
  {
   "cell_type": "code",
   "execution_count": null,
   "metadata": {},
   "outputs": [],
   "source": [
    "# Start another new session\n",
    "memory_manager.start_new_session()"
   ]
  },
  {
   "cell_type": "code",
   "execution_count": null,
   "metadata": {},
   "outputs": [],
   "source": [
    "# Open-ended greeting to test memory recall\n",
    "response = memory_agent(\"Hello again! I hope you're doing well today.\")\n",
    "print(f\"Agent: {response.message}\")"
   ]
  },
  {
   "cell_type": "code",
   "execution_count": null,
   "metadata": {},
   "outputs": [],
   "source": [
    "# Ask about project status, expecting the agent to remember context\n",
    "response = memory_agent(\"I'm starting a new project now. This one involves natural language processing for customer support automation.\")\n",
    "print(f\"Agent: {response.message}\")"
   ]
  },
  {
   "cell_type": "markdown",
   "metadata": {},
   "source": [
    "## 6. Analyze Memory Usage"
   ]
  },
  {
   "cell_type": "code",
   "execution_count": null,
   "metadata": {},
   "outputs": [],
   "source": [
    "# Check session history\n",
    "print(memory_manager.get_session_history())"
   ]
  },
  {
   "cell_type": "code",
   "execution_count": null,
   "metadata": {},
   "outputs": [],
   "source": [
    "# View memory file content\n",
    "import json\n",
    "\n",
    "with open(memory_manager.memory_file, 'r') as f:\n",
    "    memory_data = json.load(f)\n",
    "    print(f\"Memory file size: {os.path.getsize(memory_manager.memory_file) / 1024:.2f} KB\")\n",
    "    print(f\"Number of sessions: {len(memory_data['sessions'])}\")\n",
    "    print(f\"Session summaries: {json.dumps(memory_data['summaries'], indent=2)}\")"
   ]
  },
  {
   "cell_type": "markdown",
   "metadata": {},
   "source": [
    "## 7. Memory Management Tools"
   ]
  },
  {
   "cell_type": "code",
   "execution_count": null,
   "metadata": {},
   "outputs": [],
   "source": [
    "@tool\n",
    "def summarize_current_session() -> str:\n",
    "    \"\"\"Generate and save a summary of the current conversation session.\"\"\"\n",
    "    # In a real implementation, this would use the model to generate a summary\n",
    "    # For demo purposes, we'll create a simple summary\n",
    "    \n",
    "    messages = memory_manager.get_messages()\n",
    "    user_messages = [msg[\"content\"] for msg in messages if msg[\"role\"] == \"user\"]\n",
    "    \n",
    "    if not user_messages:\n",
    "        return \"No messages to summarize.\"\n",
    "        \n",
    "    # Create a simple summary from user messages\n",
    "    summary = f\"Conversation about {', '.join(user_messages[:2])[:100]}...\"\n",
    "    memory_manager.add_session_summary(summary)\n",
    "    \n",
    "    return f\"Session summarized as: {summary}\"\n",
    "\n",
    "# Add the tool to the agent\n",
    "memory_agent.tools = [calculator, current_time, recall_previous_sessions, summarize_current_session]"
   ]
  },
  {
   "cell_type": "code",
   "execution_count": null,
   "metadata": {},
   "outputs": [],
   "source": [
    "# Test the summary tool\n",
    "response = memory_agent(\"Can you summarize our current conversation?\")\n",
    "print(f\"Agent: {response.message}\")"
   ]
  },
  {
   "cell_type": "markdown",
   "metadata": {},
   "source": [
    "## 8. Memory Search for Enhanced Recall"
   ]
  },
  {
   "cell_type": "code",
   "execution_count": null,
   "metadata": {},
   "outputs": [],
   "source": [
    "@tool\n",
    "def search_memory(query: str) -> str:\n",
    "    \"\"\"Search through memory for relevant information based on a query.\"\"\"\n",
    "    # In a production system, this would use embeddings/semantic search\n",
    "    # For this demo, we'll use simple keyword matching\n",
    "    \n",
    "    results = []\n",
    "    for session_id, messages in memory_manager.sessions.items():\n",
    "        session_matches = []\n",
    "        \n",
    "        # Format date from session ID\n",
    "        try:\n",
    "            date_part = session_id.split('_')[0]\n",
    "            formatted_date = f\"{date_part[:4]}-{date_part[4:6]}-{date_part[6:]}\"\n",
    "        except:\n",
    "            formatted_date = session_id\n",
    "            \n",
    "        # Search through messages in this session\n",
    "        for msg in messages:\n",
    "            content = msg.get('content', '').lower()\n",
    "            if query.lower() in content:\n",
    "                role = \"User\" if msg[\"role\"] == \"user\" else \"Assistant\"\n",
    "                # Highlight matching part\n",
    "                highlighted = content.replace(\n",
    "                    query.lower(), \n",
    "                    f\"[{query.lower()}]\"\n",
    "                )\n",
    "                session_matches.append(f\"{role}: {highlighted}\")\n",
    "        \n",
    "        if session_matches:\n",
    "            results.append(f\"\\nFrom session {formatted_date}:\")\n",
    "            results.extend(session_matches)\n",
    "    \n",
    "    if not results:\n",
    "        return f\"No memories found matching '{query}'.\"\n",
    "        \n",
    "    return \"\\n\".join([f\"Search results for '{query}':\"]+results)\n",
    "\n",
    "# Add the search tool to the agent\n",
    "memory_agent.tools = [\n",
    "    calculator, current_time, recall_previous_sessions, \n",
    "    summarize_current_session, search_memory\n",
    "]"
   ]
  },
  {
   "cell_type": "code",
   "execution_count": null,
   "metadata": {},
   "outputs": [],
   "source": [
    "# Test the memory search\n",
    "response = memory_agent(\"What do you remember about my machine learning project?\")\n",
    "print(f\"Agent: {response.message}\")"
   ]
  },
  {
   "cell_type": "markdown",
   "metadata": {},
   "source": [
    "## 9. Clearing Memory (Optional)\n",
    "\n",
    "For testing or privacy reasons, you may want to clear memory. Uncomment to run."
   ]
  },
  {
   "cell_type": "code",
   "execution_count": null,
   "metadata": {},
   "outputs": [],
   "source": [
    "# Uncomment to clear all memory\n",
    "# memory_manager.clear()"
   ]
  },
  {
   "cell_type": "markdown",
   "metadata": {},
   "source": [
    "## 10. Conclusion\n",
    "\n",
    "This notebook demonstrated how to implement persistent, cross-session memory for Strands Agents. Key components include:\n",
    "\n",
    "1. **Memory persistence** - Storing conversations across sessions\n",
    "2. **Session management** - Creating and managing multiple conversation sessions\n",
    "3. **Memory recall** - Providing tools for the agent to access previous information\n",
    "4. **Session summaries** - Condensing key information for efficient retrieval\n",
    "5. **Memory search** - Finding specific information across all stored sessions\n",
    "\n",
    "These capabilities enable agents to provide more personalized and contextually relevant responses by building on previous interactions, rather than starting from scratch in each conversation."
   ]
  }
 ],
 "metadata": {
  "kernelspec": {
   "display_name": "Python 3",
   "language": "python",
   "name": "python3"
  },
  "language_info": {
   "codemirror_mode": {
    "name": "ipython",
    "version": 3
   },
   "file_extension": ".py",
   "mimetype": "text/x-python",
   "name": "python",
   "nbconvert_exporter": "python",
   "pygments_lexer": "ipython3",
   "version": "3.12.5"
  }
 },
 "nbformat": 4,
 "nbformat_minor": 4
}
