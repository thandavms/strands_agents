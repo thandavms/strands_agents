{
 "cells": [
  {
   "cell_type": "markdown",
   "id": "8d1c5eeb",
   "metadata": {},
   "source": [
    "#### Set up Agent primitives"
   ]
  },
  {
   "cell_type": "code",
   "execution_count": null,
   "id": "0ff587dd",
   "metadata": {},
   "outputs": [],
   "source": [
    "## 1. Model\n",
    "from strands.models import BedrockModel\n",
    "bedrock_model = BedrockModel(model_id=\"us.amazon.nova-pro-v1:0\")\n",
    "\n",
    "## 2. System Prompt / Instructions\n",
    "system_prompt = f\"You are a helpful assistant that provides concise answers. \"\n",
    "\n",
    "## 3. Conversation Manager\n",
    "from strands.agent.conversation_manager import SlidingWindowConversationManager\n",
    "conv_manager = SlidingWindowConversationManager(window_size=4)"
   ]
  },
  {
   "cell_type": "markdown",
   "id": "19251a3b",
   "metadata": {},
   "source": [
    "#### Retriever Agent"
   ]
  },
  {
   "cell_type": "code",
   "execution_count": null,
   "id": "050bc132",
   "metadata": {},
   "outputs": [],
   "source": [
    "import os\n",
    "from dotenv import load_dotenv\n",
    "from strands_tools import retrieve\n",
    "from strands import Agent\n",
    "\n",
    "load_dotenv()\n",
    "\n",
    "tool_list = [retrieve]"
   ]
  },
  {
   "cell_type": "code",
   "execution_count": null,
   "id": "49f58437",
   "metadata": {},
   "outputs": [],
   "source": [
    "## Create Agent\n",
    "retriver_agent = Agent(model=bedrock_model,\n",
    "              tools = tool_list,\n",
    "              system_prompt=system_prompt, \n",
    "              conversation_manager=conv_manager\n",
    "            )"
   ]
  },
  {
   "cell_type": "code",
   "execution_count": null,
   "id": "65ed0ae3",
   "metadata": {},
   "outputs": [],
   "source": [
    "retriver_agent(\"What are the types of agentic ai memory and create a visual of the same\")"
   ]
  },
  {
   "cell_type": "markdown",
   "id": "79e74187",
   "metadata": {},
   "source": [
    "#### Image Agent"
   ]
  },
  {
   "cell_type": "code",
   "execution_count": null,
   "id": "97d12ffa",
   "metadata": {},
   "outputs": [],
   "source": [
    "from strands_tools import image_reader, generate_image\n",
    "tool_list = [image_reader, generate_image]\n",
    "\n",
    "image_agent = Agent(model=bedrock_model,\n",
    "              tools = tool_list,\n",
    "              system_prompt=system_prompt, \n",
    "              conversation_manager=conv_manager\n",
    "            )"
   ]
  },
  {
   "cell_type": "code",
   "execution_count": null,
   "id": "38c57856",
   "metadata": {},
   "outputs": [],
   "source": [
    "## Invoke Agent - using generate image\n",
    "response = image_agent(\"Create a image of sunset over an egyptian pyramid\")"
   ]
  },
  {
   "cell_type": "code",
   "execution_count": null,
   "id": "8ccb610d",
   "metadata": {},
   "outputs": [],
   "source": [
    "image_path = \"../data/stockprice.jpeg\"\n",
    "prompt = f\"\"\"Read the stock price chart from {image_path}.  Create the following\" \n",
    "            1.  Create a point of view of the health of the company\n",
    "            2.  provide a recommendation on buy vs. sell\n",
    "            \"\"\"\n",
    "response = image_agent(prompt)"
   ]
  },
  {
   "cell_type": "markdown",
   "id": "a1bd01a1",
   "metadata": {},
   "source": [
    "#### Speech Agent"
   ]
  },
  {
   "cell_type": "code",
   "execution_count": null,
   "id": "ce7abe96",
   "metadata": {},
   "outputs": [],
   "source": [
    "from strands_tools import speak\n",
    "tool_list = [speak, image_reader, generate_image]\n",
    "\n",
    "speech_agent = Agent(model=bedrock_model,\n",
    "              tools = tool_list,\n",
    "              system_prompt=system_prompt,\n",
    "              conversation_manager=conv_manager\n",
    "            )\n",
    "\n",
    "image_path = \"../data/stockprice.jpeg\"\n",
    "prompt = f\"\"\"Read the stock price chart from {image_path}.  Create the following\" \n",
    "            1.  Create a point of view of the health of the company\n",
    "            2.  provide a recommendation on buy vs. sell\n",
    "            3.  Speak to me about the recommendation\n",
    "            \"\"\"\n",
    "\n",
    "speech_agent(prompt)"
   ]
  },
  {
   "cell_type": "markdown",
   "id": "e8242c21",
   "metadata": {},
   "source": [
    "#### Memory Agent"
   ]
  },
  {
   "cell_type": "code",
   "execution_count": null,
   "id": "01de58a8",
   "metadata": {},
   "outputs": [],
   "source": []
  },
  {
   "cell_type": "code",
   "execution_count": null,
   "id": "0baa148e",
   "metadata": {},
   "outputs": [],
   "source": []
  }
 ],
 "metadata": {
  "kernelspec": {
   "display_name": "Python 3",
   "language": "python",
   "name": "python3"
  },
  "language_info": {
   "codemirror_mode": {
    "name": "ipython",
    "version": 3
   },
   "file_extension": ".py",
   "mimetype": "text/x-python",
   "name": "python",
   "nbconvert_exporter": "python",
   "pygments_lexer": "ipython3",
   "version": "3.12.5"
  }
 },
 "nbformat": 4,
 "nbformat_minor": 5
}
