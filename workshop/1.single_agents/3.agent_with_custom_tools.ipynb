{
 "cells": [
  {
   "cell_type": "code",
   "execution_count": null,
   "id": "a0dc7f83",
   "metadata": {},
   "outputs": [],
   "source": [
    "import arxiv\n",
    "import json\n",
    "import os\n",
    "from strands.tools import tool\n",
    "from typing import List\n",
    "\n",
    "PAPER_DIR = \"papers\""
   ]
  },
  {
   "cell_type": "markdown",
   "id": "75834079",
   "metadata": {},
   "source": [
    "#### Set up Agent primitives"
   ]
  },
  {
   "cell_type": "code",
   "execution_count": null,
   "id": "638c65b8",
   "metadata": {},
   "outputs": [],
   "source": [
    "## 1. Model\n",
    "from strands.models import BedrockModel\n",
    "bedrock_model = BedrockModel(model_id=\"us.amazon.nova-pro-v1:0\")\n",
    "\n",
    "## 2. System Prompt / Instructions\n",
    "system_prompt = f\"You are a helpful assistant that provides concise answers. \"\n",
    "\n",
    "## 3. Conversation Manager\n",
    "from strands.agent.conversation_manager import SlidingWindowConversationManager\n",
    "conv_manager = SlidingWindowConversationManager(window_size=4)"
   ]
  },
  {
   "cell_type": "markdown",
   "id": "f757493b",
   "metadata": {},
   "source": [
    "#### Build custom tools"
   ]
  },
  {
   "cell_type": "markdown",
   "id": "464a5af9",
   "metadata": {},
   "source": [
    "#### Tool 1:  Search arxiv papers"
   ]
  },
  {
   "cell_type": "code",
   "execution_count": null,
   "id": "c4b6a496",
   "metadata": {},
   "outputs": [],
   "source": [
    "@tool\n",
    "def search_papers(topic: str, max_results: int = 5) -> List[str]:\n",
    "    \"\"\"\n",
    "    Search for papers on arXiv based on a topic and store their information.\n",
    "    \n",
    "    Args:\n",
    "        topic: The topic to search for\n",
    "        max_results: Maximum number of results to retrieve (default: 5)\n",
    "        \n",
    "    Returns:\n",
    "        List of paper IDs found in the search\n",
    "    \"\"\"\n",
    "    # Use arxiv to find the papers \n",
    "    client = arxiv.Client()\n",
    "\n",
    "    # Search for the most relevant articles matching the queried topic\n",
    "    search = arxiv.Search(\n",
    "        query = topic,\n",
    "        max_results = max_results,\n",
    "        sort_by = arxiv.SortCriterion.Relevance\n",
    "    )\n",
    "\n",
    "    papers = client.results(search)\n",
    "    \n",
    "    # Create directory for this topic\n",
    "    path = os.path.join(PAPER_DIR, topic.lower().replace(\" \", \"_\"))\n",
    "    os.makedirs(path, exist_ok=True)\n",
    "    \n",
    "    file_path = os.path.join(path, \"papers_info.json\")\n",
    "\n",
    "    # Try to load existing papers info\n",
    "    try:\n",
    "        with open(file_path, \"r\") as json_file:\n",
    "            papers_info = json.load(json_file)\n",
    "    except (FileNotFoundError, json.JSONDecodeError):\n",
    "        papers_info = {}\n",
    "\n",
    "    # Process each paper and add to papers_info  \n",
    "    paper_ids = []\n",
    "    for paper in papers:\n",
    "        paper_ids.append(paper.get_short_id())\n",
    "        paper_info = {\n",
    "            'title': paper.title,\n",
    "            'authors': [author.name for author in paper.authors],\n",
    "            'summary': paper.summary,\n",
    "            'pdf_url': paper.pdf_url,\n",
    "            'published': str(paper.published.date())\n",
    "        }\n",
    "        papers_info[paper.get_short_id()] = paper_info\n",
    "    \n",
    "    # Save updated papers_info to json file\n",
    "    with open(file_path, \"w\") as json_file:\n",
    "        json.dump(papers_info, json_file, indent=2)\n",
    "    \n",
    "    print(f\"Results are saved in: {file_path}\")\n",
    "    \n",
    "    return paper_ids\n",
    "\n"
   ]
  },
  {
   "cell_type": "markdown",
   "id": "fd742f4c",
   "metadata": {},
   "source": [
    "#### Tool 2:  Extract Info from arxiv paper"
   ]
  },
  {
   "cell_type": "code",
   "execution_count": null,
   "id": "981914fa",
   "metadata": {},
   "outputs": [],
   "source": [
    "@tool\n",
    "def extract_info(paper_id: str) -> str:\n",
    "    \"\"\"\n",
    "    Search for information about a specific paper across all topic directories.\n",
    "    \n",
    "    Args:\n",
    "        paper_id: The ID of the paper to look for\n",
    "        \n",
    "    Returns:\n",
    "        JSON string with paper information if found, error message if not found\n",
    "    \"\"\"\n",
    " \n",
    "    for item in os.listdir(PAPER_DIR):\n",
    "        item_path = os.path.join(PAPER_DIR, item)\n",
    "        if os.path.isdir(item_path):\n",
    "            file_path = os.path.join(item_path, \"papers_info.json\")\n",
    "            if os.path.isfile(file_path):\n",
    "                try:\n",
    "                    with open(file_path, \"r\") as json_file:\n",
    "                        papers_info = json.load(json_file)\n",
    "                        if paper_id in papers_info:\n",
    "                            return json.dumps(papers_info[paper_id], indent=2)\n",
    "                except (FileNotFoundError, json.JSONDecodeError) as e:\n",
    "                    print(f\"Error reading {file_path}: {str(e)}\")\n",
    "                    continue\n",
    "    \n",
    "    return f\"There's no saved information related to paper {paper_id}.\""
   ]
  },
  {
   "cell_type": "code",
   "execution_count": null,
   "id": "b001c0e1",
   "metadata": {},
   "outputs": [],
   "source": [
    "tool_list = [search_papers, extract_info]"
   ]
  },
  {
   "cell_type": "markdown",
   "id": "8be0c76e",
   "metadata": {},
   "source": [
    "#### Create Agent"
   ]
  },
  {
   "cell_type": "code",
   "execution_count": null,
   "id": "df24b713",
   "metadata": {},
   "outputs": [],
   "source": [
    "## Create Agent\n",
    "from strands import Agent\n",
    "arxiv_agent = Agent(model=bedrock_model,\n",
    "              tools = tool_list,\n",
    "              system_prompt=system_prompt, \n",
    "              conversation_manager=conv_manager\n",
    "            )"
   ]
  },
  {
   "cell_type": "markdown",
   "id": "f6b1ea5b",
   "metadata": {},
   "source": [
    "#### Invoke Agent"
   ]
  },
  {
   "cell_type": "code",
   "execution_count": null,
   "id": "79a8f971",
   "metadata": {},
   "outputs": [],
   "source": [
    "arxiv_agent(\"What are the papers on quantum computing and create a short summary of the same\")"
   ]
  }
 ],
 "metadata": {
  "kernelspec": {
   "display_name": "Python 3",
   "language": "python",
   "name": "python3"
  },
  "language_info": {
   "codemirror_mode": {
    "name": "ipython",
    "version": 3
   },
   "file_extension": ".py",
   "mimetype": "text/x-python",
   "name": "python",
   "nbconvert_exporter": "python",
   "pygments_lexer": "ipython3",
   "version": "3.12.5"
  }
 },
 "nbformat": 4,
 "nbformat_minor": 5
}
