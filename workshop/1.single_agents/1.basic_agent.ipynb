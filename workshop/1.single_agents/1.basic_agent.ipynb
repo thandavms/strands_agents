{
 "cells": [
  {
   "cell_type": "markdown",
   "id": "821a88f4",
   "metadata": {},
   "source": [
    "#### Set up Agent primitives"
   ]
  },
  {
   "cell_type": "code",
   "execution_count": null,
   "id": "19d6ff41",
   "metadata": {},
   "outputs": [],
   "source": [
    "## 1. Model\n",
    "from strands.models import BedrockModel\n",
    "bedrock_model = BedrockModel(model_id=\"us.amazon.nova-pro-v1:0\")\n",
    "\n",
    "## 2. System Prompt / Instructions\n",
    "system_prompt = f\"You are a helpful assistant that provides concise answers. \"\n",
    "\n",
    "## 3. Conversation Manager\n",
    "from strands.agent.conversation_manager import SlidingWindowConversationManager\n",
    "conv_manager = SlidingWindowConversationManager(window_size=4)"
   ]
  },
  {
   "cell_type": "markdown",
   "id": "f89ba553",
   "metadata": {},
   "source": [
    "#### Use in built in tools registry"
   ]
  },
  {
   "cell_type": "code",
   "execution_count": null,
   "id": "06a93046",
   "metadata": {},
   "outputs": [],
   "source": [
    "## Tools\n",
    "from strands_tools import calculator, current_time\n",
    "tool_list = [calculator, current_time]"
   ]
  },
  {
   "cell_type": "markdown",
   "id": "baf2601b",
   "metadata": {},
   "source": [
    "#### Create the Agent"
   ]
  },
  {
   "cell_type": "code",
   "execution_count": null,
   "id": "6cf79685",
   "metadata": {},
   "outputs": [],
   "source": [
    "## Create Agent\n",
    "from strands import Agent\n",
    "agent = Agent(model=bedrock_model,\n",
    "              tools = tool_list,\n",
    "              system_prompt=system_prompt, \n",
    "              conversation_manager=conv_manager\n",
    "            )"
   ]
  },
  {
   "cell_type": "markdown",
   "id": "bd7f27b6",
   "metadata": {},
   "source": [
    "#### Invoke the Agent"
   ]
  },
  {
   "cell_type": "code",
   "execution_count": null,
   "id": "db8f65c6",
   "metadata": {},
   "outputs": [],
   "source": [
    "## Invoke Agent\n",
    "response = agent(\"What is the current time\")"
   ]
  },
  {
   "cell_type": "code",
   "execution_count": null,
   "id": "1c0d8b70",
   "metadata": {},
   "outputs": [],
   "source": [
    "print(f\"Total tokens: {response.message}\")\n",
    "print(f\"Total tokens: {response.metrics.accumulated_usage}\")\n",
    "print(f\"Execution time: {sum(response.metrics.cycle_durations):.2f} seconds\")\n",
    "print(f\"Tools used: {list(response.metrics.tool_metrics.keys())}\")"
   ]
  },
  {
   "cell_type": "code",
   "execution_count": null,
   "id": "6206a6df",
   "metadata": {},
   "outputs": [],
   "source": [
    "response = agent(\"What is 123 × 456?\")"
   ]
  },
  {
   "cell_type": "code",
   "execution_count": null,
   "id": "46785d69",
   "metadata": {},
   "outputs": [],
   "source": [
    "print(f\"Total tokens: {response.message}\")\n",
    "print(f\"Total tokens: {response.metrics.accumulated_usage}\")\n",
    "print(f\"Execution time: {sum(response.metrics.cycle_durations):.2f} seconds\")\n",
    "print(f\"Tools used: {list(response.metrics.tool_metrics.keys())}\")"
   ]
  },
  {
   "cell_type": "markdown",
   "id": "7d7d9280",
   "metadata": {},
   "source": [
    "#### Conversation Memory"
   ]
  },
  {
   "cell_type": "code",
   "execution_count": null,
   "id": "6efe43dc",
   "metadata": {},
   "outputs": [],
   "source": [
    "for msg in agent.messages:\n",
    "    print(msg)"
   ]
  },
  {
   "cell_type": "markdown",
   "id": "a6e40130",
   "metadata": {},
   "source": [
    "#### Logging"
   ]
  },
  {
   "cell_type": "code",
   "execution_count": null,
   "id": "0a4dca74",
   "metadata": {},
   "outputs": [],
   "source": [
    "import logging\n",
    "\n",
    "# Configure the root strands logger\n",
    "logging.getLogger(\"strands\").setLevel(logging.DEBUG)\n",
    "\n",
    "# Add a handler to see the logs\n",
    "logging.basicConfig(\n",
    "    format=\"%(levelname)s | %(name)s | %(message)s\", \n",
    "    handlers=[logging.StreamHandler()]\n",
    ")"
   ]
  },
  {
   "cell_type": "code",
   "execution_count": null,
   "id": "aec429dc",
   "metadata": {},
   "outputs": [],
   "source": [
    "## Invoke Agent\n",
    "response = agent(\"What is the 10*200+500\")"
   ]
  },
  {
   "cell_type": "markdown",
   "id": "4b15937e",
   "metadata": {},
   "source": [
    "#### Adding Guardrail to the Agent"
   ]
  },
  {
   "cell_type": "code",
   "execution_count": null,
   "id": "52fb5b54",
   "metadata": {},
   "outputs": [],
   "source": [
    "guardrail_id = \"0a2rrw070xhi\"\n",
    "guardail_version = \"1\""
   ]
  },
  {
   "cell_type": "code",
   "execution_count": null,
   "id": "bc96580a",
   "metadata": {},
   "outputs": [],
   "source": [
    "from strands.models import BedrockModel\n",
    "model_with_guards = BedrockModel(\n",
    "    model_id=\"us.amazon.nova-pro-v1:0\",\n",
    "    guardrail_id=guardrail_id,              # Your Bedrock guardrail ID\n",
    "    guardrail_version=guardail_version,     # Guardrail version\n",
    "    guardrail_trace=\"enabled\",              # Enable trace info for debugging\n",
    ")"
   ]
  },
  {
   "cell_type": "code",
   "execution_count": null,
   "id": "4af8596b",
   "metadata": {},
   "outputs": [],
   "source": [
    "## Create Agent\n",
    "from strands import Agent\n",
    "agent_with_guards = Agent(model=model_with_guards,\n",
    "              tools = tool_list,\n",
    "              system_prompt=system_prompt, \n",
    "              conversation_manager=conv_manager\n",
    "            )"
   ]
  },
  {
   "cell_type": "code",
   "execution_count": null,
   "id": "4232bd00",
   "metadata": {},
   "outputs": [],
   "source": [
    "response = agent_with_guards(\"who is donald trump\")"
   ]
  },
  {
   "cell_type": "code",
   "execution_count": null,
   "id": "4c242193",
   "metadata": {},
   "outputs": [],
   "source": [
    "if response.stop_reason == \"guardrail_intervened\":\n",
    "    print(\"Content was blocked by guardrails, conversation context overwritten!\")"
   ]
  }
 ],
 "metadata": {
  "kernelspec": {
   "display_name": "Python 3",
   "language": "python",
   "name": "python3"
  },
  "language_info": {
   "codemirror_mode": {
    "name": "ipython",
    "version": 3
   },
   "file_extension": ".py",
   "mimetype": "text/x-python",
   "name": "python",
   "nbconvert_exporter": "python",
   "pygments_lexer": "ipython3",
   "version": "3.12.5"
  }
 },
 "nbformat": 4,
 "nbformat_minor": 5
}
