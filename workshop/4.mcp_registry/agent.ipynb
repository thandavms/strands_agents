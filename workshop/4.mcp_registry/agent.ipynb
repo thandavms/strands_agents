{
 "cells": [
  {
   "cell_type": "code",
   "execution_count": 14,
   "id": "fb8e0e87",
   "metadata": {},
   "outputs": [],
   "source": [
    "from strands import Agent\n",
    "import yaml\n",
    "\n",
    "def find_mcpserver(query):\n",
    "    # Researcher Agent with web capabilities\n",
    "    print (f\"\"\"Find the MCP sever best fit to answer the query\"\"\")\n",
    "\n",
    "    with open(\"mcp_registry.yaml\", 'r') as file:\n",
    "        registry = yaml.safe_load(file)\n",
    "    \n",
    "    selector_agent = Agent(\n",
    "        system_prompt=(\n",
    "            f\"\"\"You are an expert agent in identifying the best fit server to answer the user query.  \n",
    "            You are provided with a registry of server with its name, purpose and description: {registry} \"\n",
    "            1. Understand the user query in its entierity\"\n",
    "            2. Find the best fit server by matching the user query to the description of the server\n",
    "            3. Return just the server location.  \n",
    "            4. Avoid any premables \"\"\"\n",
    "        ),\n",
    "        callback_handler=None,\n",
    "    )\n",
    "\n",
    "    return str(selector_agent(query))"
   ]
  },
  {
   "cell_type": "code",
   "execution_count": 15,
   "id": "e5737068",
   "metadata": {},
   "outputs": [],
   "source": [
    "from mcp.client.streamable_http import streamablehttp_client\n",
    "from strands import Agent\n",
    "from strands.tools.mcp.mcp_client import MCPClient\n",
    "\n",
    "def answer_query(query, mcp_server):\n",
    "    mcp_client = MCPClient(lambda: streamablehttp_client(mcp_server))\n",
    "    mcp_client.start()\n",
    "    tools = mcp_client.list_tools_sync()\n",
    "    print(f\"Available tools: {tools}\")\n",
    "    agent = Agent(tools=tools)\n",
    "\n",
    "    response = agent(query)\n",
    "    return(response)"
   ]
  },
  {
   "cell_type": "code",
   "execution_count": null,
   "id": "f54181ee",
   "metadata": {},
   "outputs": [
    {
     "name": "stdout",
     "output_type": "stream",
     "text": [
      "Find the MCP sever best fit to answer the query\n",
      "Available tools: [<strands.tools.mcp.mcp_agent_tool.MCPAgentTool object at 0x11d22f650>, <strands.tools.mcp.mcp_agent_tool.MCPAgentTool object at 0x138c4d4c0>]\n",
      "I'll help you find a paper on quantum computing. Let me search for relevant papers on this topic for you.\n",
      "Tool #7: search_papers\n",
      "\n",
      "\n",
      "I found several papers on quantum computing. Let me get more information about one of them for you:\n",
      "Tool #8: extract_info\n",
      "\n",
      "\n",
      "Here's a paper on quantum computing I found for you:\n",
      "\n",
      "**Title**: The Rise of Quantum Internet Computing  \n",
      "**Authors**: Seng W. Loke  \n",
      "**Published**: August 1, 2022  \n",
      "**Summary**: This paper explores quantum Internet computing as a concept similar to classical Internet computing but using distributed quantum computing over a quantum Internet. It covers quantum protocols for distributed nodes, quantum cloud computing, delegated verifiable blind/private computing, non-local gates, and distributed quantum applications over Internet-scale distances.  \n",
      "**PDF URL**: http://arxiv.org/pdf/2208.00733v1\n",
      "\n",
      "Would you like me to look up information about any of the other papers I found, or would you prefer a paper on a more specific aspect of quantum computing?"
     ]
    },
    {
     "data": {
      "text/plain": [
       "AgentResult(stop_reason='end_turn', message={'role': 'assistant', 'content': [{'text': \"\\n\\nHere's a paper on quantum computing I found for you:\\n\\n**Title**: The Rise of Quantum Internet Computing  \\n**Authors**: Seng W. Loke  \\n**Published**: August 1, 2022  \\n**Summary**: This paper explores quantum Internet computing as a concept similar to classical Internet computing but using distributed quantum computing over a quantum Internet. It covers quantum protocols for distributed nodes, quantum cloud computing, delegated verifiable blind/private computing, non-local gates, and distributed quantum applications over Internet-scale distances.  \\n**PDF URL**: http://arxiv.org/pdf/2208.00733v1\\n\\nWould you like me to look up information about any of the other papers I found, or would you prefer a paper on a more specific aspect of quantum computing?\"}]}, metrics=EventLoopMetrics(cycle_count=3, tool_metrics={'search_papers': ToolMetrics(tool={'toolUseId': 'tooluse_OmoG7X8ZTDaRavsXs_fuMA', 'name': 'search_papers', 'input': {'topic': 'quantum computing', 'max_results': 5}}, call_count=1, success_count=1, error_count=0, total_time=1.18601393699646), 'extract_info': ToolMetrics(tool={'toolUseId': 'tooluse_JDEM17NVQ0KdH4D5jyb_8g', 'name': 'extract_info', 'input': {'paper_id': '2208.00733v1'}}, call_count=1, success_count=1, error_count=0, total_time=0.009169816970825195)}, cycle_durations=[5.515233993530273], traces=[<strands.telemetry.metrics.Trace object at 0x13b30b1d0>, <strands.telemetry.metrics.Trace object at 0x139018fe0>, <strands.telemetry.metrics.Trace object at 0x138fc2f90>], accumulated_usage={'inputTokens': 2367, 'outputTokens': 309, 'totalTokens': 2676}, accumulated_metrics={'latencyMs': 9842}), state={})"
      ]
     },
     "execution_count": 16,
     "metadata": {},
     "output_type": "execute_result"
    }
   ],
   "source": [
    "## Build the worflow\n",
    "#query = \"give me a paper on quantum computing\"\n",
    "query = \"who is usain bolt\"\n",
    "\n",
    "mcp_server = find_mcpserver(query)\n",
    "mcp_server = mcp_server.strip()\n",
    "answer_query(query, mcp_server)"
   ]
  }
 ],
 "metadata": {
  "kernelspec": {
   "display_name": "Python 3",
   "language": "python",
   "name": "python3"
  },
  "language_info": {
   "codemirror_mode": {
    "name": "ipython",
    "version": 3
   },
   "file_extension": ".py",
   "mimetype": "text/x-python",
   "name": "python",
   "nbconvert_exporter": "python",
   "pygments_lexer": "ipython3",
   "version": "3.12.5"
  }
 },
 "nbformat": 4,
 "nbformat_minor": 5
}
