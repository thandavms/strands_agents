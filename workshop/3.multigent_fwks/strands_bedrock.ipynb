{
 "cells": [
  {
   "cell_type": "code",
   "execution_count": null,
   "id": "2257b649",
   "metadata": {},
   "outputs": [],
   "source": [
    "from strands import tool\n",
    "from strands import Agent\n",
    "\n",
    "import uuid\n",
    "import boto3\n",
    "import os\n",
    "from dotenv import load_dotenv\n",
    "\n",
    "## 1. Model\n",
    "load_dotenv()\n",
    "from strands.models import BedrockModel\n",
    "MODEL_ID = os.environ.get('MODEL_ID')\n",
    "\n",
    "bedrock_model = BedrockModel(model_id=MODEL_ID)\n",
    "\n",
    "## 2. System Prompt / Instructions\n",
    "system_prompt = f\"You are a helpful assistant that provides concise answers. \"\n",
    "\n",
    "## 3. Conversation Manager\n",
    "from strands.agent.conversation_manager import SlidingWindowConversationManager\n",
    "conv_manager = SlidingWindowConversationManager(window_size=10)"
   ]
  },
  {
   "cell_type": "markdown",
   "id": "026b6622",
   "metadata": {},
   "source": [
    "#### Bedrock Agent as Tool"
   ]
  },
  {
   "cell_type": "code",
   "execution_count": null,
   "id": "72fdad21",
   "metadata": {},
   "outputs": [],
   "source": [
    "@tool\n",
    "def agenticmemory_intelligence(query):\n",
    "    \"\"\"\n",
    "    Answer queries related to Agentic memory and AI Agents\n",
    "    \n",
    "    Args:\n",
    "        query: User query on the topic of interest\n",
    "        \n",
    "    Returns:\n",
    "        summary of the content\n",
    "    \"\"\"\n",
    "    print(\"CALLING KB\")\n",
    "    load_dotenv()\n",
    "\n",
    "    region = os.environ.get(\"AWS_REGION_NAME\")\n",
    "    agent_id = os.environ.get(\"AGENT_ID\")\n",
    "    alias_id = os.environ.get(\"AGENT_ALIAS\")\n",
    "\n",
    "    bedrock_agent_runtime_client = boto3.client(\"bedrock-agent-runtime\", region_name = region)\n",
    "    session_id = str(uuid.uuid1())\n",
    "    end_session = False\n",
    "    enable_trace = True\n",
    "\n",
    "    # invoke the agent API\n",
    "    agentResponse = bedrock_agent_runtime_client.invoke_agent(\n",
    "        inputText=query,\n",
    "        agentId=agent_id,\n",
    "        agentAliasId=alias_id, \n",
    "        sessionId=session_id,\n",
    "        enableTrace=enable_trace, \n",
    "        endSession= end_session,\n",
    "    )\n",
    "    \n",
    "    event_stream = agentResponse['completion']\n",
    "    try:\n",
    "        for event in event_stream:        \n",
    "            if 'chunk' in event:\n",
    "                data = event['chunk']['bytes']\n",
    "                agent_answer = data.decode('utf8')\n",
    "                end_event_received = True\n",
    "                return agent_answer\n",
    "                # End event indicates that the request finished successfully\n",
    "            else:\n",
    "                raise Exception(\"unexpected event.\", event)\n",
    "    except Exception as e:\n",
    "        raise Exception(\"unexpected event.\", e)"
   ]
  },
  {
   "cell_type": "markdown",
   "id": "f266ab42",
   "metadata": {},
   "source": [
    "#### Langgraph Agent as Tool"
   ]
  },
  {
   "cell_type": "code",
   "execution_count": null,
   "id": "ba4aef63",
   "metadata": {},
   "outputs": [],
   "source": [
    "from langgraph.graph import StateGraph, START, END\n",
    "from langchain_community.tools.tavily_search import TavilySearchResults\n",
    "\n",
    "@tool\n",
    "def general_intelligence(query):\n",
    "    \"\"\"\n",
    "    Answer generic queries by searching the internet\n",
    "    \n",
    "    Args:\n",
    "        query: User query on the topic of interest\n",
    "        \n",
    "    Returns:\n",
    "        summary of the content\n",
    "    \"\"\"\n",
    "    print(\"CALLING WEBSEARCH\")\n",
    "\n",
    "    load_dotenv()\n",
    "    tavily_api_key = os.environ.get('TAVILY_API_KEY')\n",
    "    model_id = os.environ.get('MODEL_ID')\n",
    "\n",
    "    ## Model - Agent Brain\n",
    "    from langchain_aws import ChatBedrock\n",
    "    llm = ChatBedrock(model=model_id)\n",
    "\n",
    "    ## Graph State\n",
    "    from typing import TypedDict\n",
    "\n",
    "    class State(TypedDict):\n",
    "        query: str\n",
    "        web_search: str\n",
    "        final_answer: str\n",
    "\n",
    "    def search_web(state: State):\n",
    "        print(\"SEARCHING WEB\")\n",
    "        search_tool = TavilySearchResults(max_results=2)\n",
    "        web_results = search_tool.invoke(state[\"query\"])\n",
    "        return {\"web_search\": web_results}\n",
    "\n",
    "    def aggregator(state: State):\n",
    "        print(\"AGGREGATING RESPONSE\")\n",
    "        prompt = f\"\"\" Your job is to summarize from the context provided to you.  the context includes information from web search: {state[\"web_search\"]}\"\"\"\n",
    "        final_answer = llm.invoke(prompt)           \n",
    "        return {\"final_answer\": final_answer.content}  \n",
    "\n",
    "    parallel_builder = StateGraph(State)\n",
    "\n",
    "    # Add nodes\n",
    "    parallel_builder.add_node(\"call_websearch\", search_web)\n",
    "    parallel_builder.add_node(\"aggregator\", aggregator)\n",
    "\n",
    "    parallel_builder.add_edge(START, \"call_websearch\")\n",
    "    parallel_builder.add_edge(\"call_websearch\", \"aggregator\")\n",
    "    parallel_builder.add_edge(\"aggregator\", END)\n",
    "\n",
    "    agent = parallel_builder.compile()\n",
    "\n",
    "    state = agent.invoke({\"query\": query})\n",
    "    return (state[\"final_answer\"])"
   ]
  },
  {
   "cell_type": "code",
   "execution_count": null,
   "id": "916601ca",
   "metadata": {},
   "outputs": [],
   "source": [
    "tool_list = [general_intelligence, agenticmemory_intelligence]\n",
    "\n",
    "agent = Agent(model=bedrock_model,\n",
    "              tools = tool_list,\n",
    "              system_prompt=system_prompt, \n",
    "              conversation_manager=conv_manager\n",
    "            )"
   ]
  },
  {
   "cell_type": "code",
   "execution_count": null,
   "id": "a57011fb",
   "metadata": {},
   "outputs": [],
   "source": [
    "response = agent(\"who is usain bolt\")"
   ]
  },
  {
   "cell_type": "code",
   "execution_count": null,
   "id": "09efc5b0",
   "metadata": {},
   "outputs": [],
   "source": [
    "response = agent(\"what are different types of agentic ai memory\")"
   ]
  }
 ],
 "metadata": {
  "kernelspec": {
   "display_name": "Python 3",
   "language": "python",
   "name": "python3"
  },
  "language_info": {
   "codemirror_mode": {
    "name": "ipython",
    "version": 3
   },
   "file_extension": ".py",
   "mimetype": "text/x-python",
   "name": "python",
   "nbconvert_exporter": "python",
   "pygments_lexer": "ipython3",
   "version": "3.12.5"
  }
 },
 "nbformat": 4,
 "nbformat_minor": 5
}
